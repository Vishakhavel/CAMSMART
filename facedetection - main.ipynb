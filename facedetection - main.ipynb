{
 "cells": [
  {
   "cell_type": "code",
   "execution_count": 1,
   "metadata": {
    "colab": {
     "base_uri": "https://localhost:8080/"
    },
    "id": "fx4Z6CGYnjOM",
    "outputId": "6e2d1808-4c64-43f8-9d57-b1f6fc56ba01"
   },
   "outputs": [
    {
     "name": "stdout",
     "output_type": "stream",
     "text": [
      "Mounted at /content/drive\n"
     ]
    }
   ],
   "source": [
    "from google.colab import drive\n",
    "drive.mount('/content/drive')"
   ]
  },
  {
   "cell_type": "code",
   "execution_count": null,
   "metadata": {
    "id": "dnS4q4q_oJ7H"
   },
   "outputs": [],
   "source": [
    "!unzip drive/MyDrive/ferdataset.zip"
   ]
  },
  {
   "cell_type": "code",
   "execution_count": 1,
   "metadata": {
    "id": "b1Yd1EX1pV71"
   },
   "outputs": [],
   "source": [
    "def plot_model_history(model_history):\n",
    "    \"\"\"\n",
    "    Plot Accuracy and Loss curves given the model_history\n",
    "    \"\"\"\n",
    "    fig, axs = plt.subplots(1,2,figsize=(15,5))\n",
    "    \n",
    "    # summarize history for accuracy\n",
    "    axs[0].plot(range(1,len(model_history.history['accuracy'])+1),model_history.history['accuracy'])\n",
    "    axs[0].plot(range(1,len(model_history.history['val_accuracy'])+1),model_history.history['val_accuracy'])\n",
    "    axs[0].set_title('Model Accuracy')\n",
    "    axs[0].set_ylabel('Accuracy')\n",
    "    axs[0].set_xlabel('Epoch')\n",
    "    axs[0].set_xticks(np.arange(1,len(model_history.history['accuracy'])+1),len(model_history.history['accuracy'])/10)\n",
    "    axs[0].legend(['train', 'val'], loc='best')\n",
    "    \n",
    "    # summarize history for loss\n",
    "    axs[1].plot(range(1,len(model_history.history['loss'])+1),model_history.history['loss'])\n",
    "    axs[1].plot(range(1,len(model_history.history['val_loss'])+1),model_history.history['val_loss'])\n",
    "    axs[1].set_title('Model Loss')\n",
    "    axs[1].set_ylabel('Loss')\n",
    "    axs[1].set_xlabel('Epoch')\n",
    "    axs[1].set_xticks(np.arange(1,len(model_history.history['loss'])+1),len(model_history.history['loss'])/10)\n",
    "    axs[1].legend(['train', 'val'], loc='best')\n",
    "    \n",
    "    fig.savefig('plot.png')\n",
    "    plt.show()"
   ]
  },
  {
   "cell_type": "code",
   "execution_count": 2,
   "metadata": {
    "id": "D3yLvNIVoXI8"
   },
   "outputs": [],
   "source": [
    "import numpy as np\n",
    "import matplotlib.pyplot as plt\n",
    "import cv2\n",
    "from tensorflow.keras.models import Sequential\n",
    "from tensorflow.keras.layers import Dense, Dropout, Flatten\n",
    "from tensorflow.keras.layers import Conv2D\n",
    "from tensorflow.keras.optimizers import Adam\n",
    "from tensorflow.keras.layers import MaxPooling2D\n",
    "from tensorflow.keras.preprocessing.image import ImageDataGenerator"
   ]
  },
  {
   "cell_type": "code",
   "execution_count": 3,
   "metadata": {
    "id": "8o2kVXfropsk"
   },
   "outputs": [],
   "source": [
    "train_dir = 'train'\n",
    "val_dir = 'test'\n",
    "\n",
    "num_train = 28709\n",
    "num_val = 7178\n",
    "batch_size = 64\n",
    "num_epoch = 50"
   ]
  },
  {
   "cell_type": "code",
   "execution_count": 4,
   "metadata": {
    "colab": {
     "base_uri": "https://localhost:8080/"
    },
    "id": "WZL78BLRylEw",
    "outputId": "8c658cba-9b29-498f-c5b4-e89aea248d0e"
   },
   "outputs": [
    {
     "name": "stdout",
     "output_type": "stream",
     "text": [
      "Found 28709 images belonging to 7 classes.\n",
      "Found 7178 images belonging to 7 classes.\n"
     ]
    }
   ],
   "source": [
    "train_datagen = ImageDataGenerator(rescale=1./255)\n",
    "val_datagen = ImageDataGenerator(rescale=1./255)\n",
    "\n",
    "train_generator = train_datagen.flow_from_directory(\n",
    "        train_dir,\n",
    "        target_size=(48,48),\n",
    "        batch_size=batch_size,\n",
    "        color_mode=\"grayscale\",\n",
    "        class_mode='categorical')\n",
    "\n",
    "validation_generator = val_datagen.flow_from_directory(\n",
    "        val_dir,\n",
    "        target_size=(48,48),\n",
    "        batch_size=batch_size,\n",
    "        color_mode=\"grayscale\",\n",
    "        class_mode='categorical')"
   ]
  },
  {
   "cell_type": "code",
   "execution_count": 5,
   "metadata": {
    "id": "-8sMpdeSoPoS"
   },
   "outputs": [],
   "source": [
    "model = Sequential()\n",
    "\n",
    "model.add(Conv2D(32, kernel_size=(3, 3), activation='relu', input_shape=(48,48,1)))\n",
    "model.add(Conv2D(64, kernel_size=(3, 3), activation='relu'))\n",
    "model.add(MaxPooling2D(pool_size=(2, 2)))\n",
    "model.add(Dropout(0.25))\n",
    "\n",
    "model.add(Conv2D(128, kernel_size=(3, 3), activation='relu'))\n",
    "model.add(MaxPooling2D(pool_size=(2, 2)))\n",
    "model.add(Conv2D(128, kernel_size=(3, 3), activation='relu'))\n",
    "model.add(MaxPooling2D(pool_size=(2, 2)))\n",
    "model.add(Dropout(0.25))\n",
    "\n",
    "model.add(Flatten())\n",
    "model.add(Dense(1024, activation='relu'))\n",
    "model.add(Dropout(0.5))\n",
    "model.add(Dense(7, activation='softmax'))"
   ]
  },
  {
   "cell_type": "code",
   "execution_count": 6,
   "metadata": {
    "colab": {
     "base_uri": "https://localhost:8080/",
     "height": 1000
    },
    "id": "McxjdN3uoT56",
    "outputId": "95b4382d-aa23-4499-d55d-31d38a463606"
   },
   "outputs": [
    {
     "name": "stderr",
     "output_type": "stream",
     "text": [
      "/usr/local/lib/python3.7/dist-packages/tensorflow/python/keras/optimizer_v2/optimizer_v2.py:375: UserWarning: The `lr` argument is deprecated, use `learning_rate` instead.\n",
      "  \"The `lr` argument is deprecated, use `learning_rate` instead.\")\n",
      "/usr/local/lib/python3.7/dist-packages/tensorflow/python/keras/engine/training.py:1940: UserWarning: `Model.fit_generator` is deprecated and will be removed in a future version. Please use `Model.fit`, which supports generators.\n",
      "  warnings.warn('`Model.fit_generator` is deprecated and '\n"
     ]
    },
    {
     "name": "stdout",
     "output_type": "stream",
     "text": [
      "Epoch 1/50\n",
      "448/448 [==============================] - 14s 24ms/step - loss: 1.7972 - accuracy: 0.2614 - val_loss: 1.6862 - val_accuracy: 0.3573\n",
      "Epoch 2/50\n",
      "448/448 [==============================] - 10s 23ms/step - loss: 1.6206 - accuracy: 0.3713 - val_loss: 1.5442 - val_accuracy: 0.4142\n",
      "Epoch 3/50\n",
      "448/448 [==============================] - 10s 23ms/step - loss: 1.5167 - accuracy: 0.4197 - val_loss: 1.4476 - val_accuracy: 0.4534\n",
      "Epoch 4/50\n",
      "448/448 [==============================] - 10s 23ms/step - loss: 1.4437 - accuracy: 0.4504 - val_loss: 1.3852 - val_accuracy: 0.4669\n",
      "Epoch 5/50\n",
      "448/448 [==============================] - 11s 24ms/step - loss: 1.3821 - accuracy: 0.4743 - val_loss: 1.3323 - val_accuracy: 0.4912\n",
      "Epoch 6/50\n",
      "448/448 [==============================] - 11s 24ms/step - loss: 1.3332 - accuracy: 0.4943 - val_loss: 1.2958 - val_accuracy: 0.5036\n",
      "Epoch 7/50\n",
      "448/448 [==============================] - 11s 24ms/step - loss: 1.2868 - accuracy: 0.5136 - val_loss: 1.2636 - val_accuracy: 0.5174\n",
      "Epoch 8/50\n",
      "448/448 [==============================] - 10s 23ms/step - loss: 1.2486 - accuracy: 0.5284 - val_loss: 1.2452 - val_accuracy: 0.5232\n",
      "Epoch 9/50\n",
      "448/448 [==============================] - 10s 23ms/step - loss: 1.2192 - accuracy: 0.5383 - val_loss: 1.2124 - val_accuracy: 0.5381\n",
      "Epoch 10/50\n",
      "448/448 [==============================] - 11s 24ms/step - loss: 1.1837 - accuracy: 0.5546 - val_loss: 1.1915 - val_accuracy: 0.5435\n",
      "Epoch 11/50\n",
      "448/448 [==============================] - 11s 24ms/step - loss: 1.1563 - accuracy: 0.5632 - val_loss: 1.1761 - val_accuracy: 0.5518\n",
      "Epoch 12/50\n",
      "448/448 [==============================] - 11s 23ms/step - loss: 1.1278 - accuracy: 0.5753 - val_loss: 1.1504 - val_accuracy: 0.5638\n",
      "Epoch 13/50\n",
      "448/448 [==============================] - 11s 24ms/step - loss: 1.1009 - accuracy: 0.5880 - val_loss: 1.1456 - val_accuracy: 0.5678\n",
      "Epoch 14/50\n",
      "448/448 [==============================] - 10s 23ms/step - loss: 1.0757 - accuracy: 0.6010 - val_loss: 1.1279 - val_accuracy: 0.5732\n",
      "Epoch 15/50\n",
      "448/448 [==============================] - 10s 23ms/step - loss: 1.0501 - accuracy: 0.6083 - val_loss: 1.1135 - val_accuracy: 0.5758\n",
      "Epoch 16/50\n",
      "448/448 [==============================] - 10s 23ms/step - loss: 1.0304 - accuracy: 0.6157 - val_loss: 1.1153 - val_accuracy: 0.5792\n",
      "Epoch 17/50\n",
      "448/448 [==============================] - 10s 23ms/step - loss: 1.0052 - accuracy: 0.6265 - val_loss: 1.1132 - val_accuracy: 0.5778\n",
      "Epoch 18/50\n",
      "448/448 [==============================] - 10s 23ms/step - loss: 0.9804 - accuracy: 0.6372 - val_loss: 1.0893 - val_accuracy: 0.5915\n",
      "Epoch 19/50\n",
      "448/448 [==============================] - 10s 23ms/step - loss: 0.9566 - accuracy: 0.6449 - val_loss: 1.0869 - val_accuracy: 0.5949\n",
      "Epoch 20/50\n",
      "448/448 [==============================] - 10s 23ms/step - loss: 0.9360 - accuracy: 0.6525 - val_loss: 1.0764 - val_accuracy: 0.5991\n",
      "Epoch 21/50\n",
      "448/448 [==============================] - 10s 23ms/step - loss: 0.9132 - accuracy: 0.6656 - val_loss: 1.0728 - val_accuracy: 0.6037\n",
      "Epoch 22/50\n",
      "448/448 [==============================] - 10s 23ms/step - loss: 0.8920 - accuracy: 0.6719 - val_loss: 1.0774 - val_accuracy: 0.5977\n",
      "Epoch 23/50\n",
      "448/448 [==============================] - 10s 23ms/step - loss: 0.8693 - accuracy: 0.6809 - val_loss: 1.0695 - val_accuracy: 0.6044\n",
      "Epoch 24/50\n",
      "448/448 [==============================] - 10s 23ms/step - loss: 0.8465 - accuracy: 0.6901 - val_loss: 1.0666 - val_accuracy: 0.6042\n",
      "Epoch 25/50\n",
      "448/448 [==============================] - 10s 23ms/step - loss: 0.8201 - accuracy: 0.7009 - val_loss: 1.0770 - val_accuracy: 0.6067\n",
      "Epoch 26/50\n",
      "448/448 [==============================] - 10s 23ms/step - loss: 0.8002 - accuracy: 0.7086 - val_loss: 1.0603 - val_accuracy: 0.6152\n",
      "Epoch 27/50\n",
      "448/448 [==============================] - 10s 23ms/step - loss: 0.7784 - accuracy: 0.7162 - val_loss: 1.0637 - val_accuracy: 0.6129\n",
      "Epoch 28/50\n",
      "448/448 [==============================] - 10s 23ms/step - loss: 0.7542 - accuracy: 0.7242 - val_loss: 1.0765 - val_accuracy: 0.6123\n",
      "Epoch 29/50\n",
      "448/448 [==============================] - 10s 23ms/step - loss: 0.7328 - accuracy: 0.7324 - val_loss: 1.0710 - val_accuracy: 0.6120\n",
      "Epoch 30/50\n",
      "448/448 [==============================] - 10s 23ms/step - loss: 0.7148 - accuracy: 0.7384 - val_loss: 1.0640 - val_accuracy: 0.6155\n",
      "Epoch 31/50\n",
      "448/448 [==============================] - 10s 23ms/step - loss: 0.6877 - accuracy: 0.7514 - val_loss: 1.0781 - val_accuracy: 0.6166\n",
      "Epoch 32/50\n",
      "448/448 [==============================] - 10s 23ms/step - loss: 0.6642 - accuracy: 0.7573 - val_loss: 1.0873 - val_accuracy: 0.6166\n",
      "Epoch 33/50\n",
      "448/448 [==============================] - 10s 23ms/step - loss: 0.6456 - accuracy: 0.7661 - val_loss: 1.0881 - val_accuracy: 0.6177\n",
      "Epoch 34/50\n",
      "448/448 [==============================] - 11s 23ms/step - loss: 0.6230 - accuracy: 0.7751 - val_loss: 1.1129 - val_accuracy: 0.6229\n",
      "Epoch 35/50\n",
      "448/448 [==============================] - 11s 24ms/step - loss: 0.6018 - accuracy: 0.7818 - val_loss: 1.1159 - val_accuracy: 0.6161\n",
      "Epoch 36/50\n",
      "448/448 [==============================] - 10s 23ms/step - loss: 0.5858 - accuracy: 0.7858 - val_loss: 1.1082 - val_accuracy: 0.6152\n",
      "Epoch 37/50\n",
      "448/448 [==============================] - 10s 23ms/step - loss: 0.5673 - accuracy: 0.7943 - val_loss: 1.1013 - val_accuracy: 0.6203\n",
      "Epoch 38/50\n",
      "448/448 [==============================] - 10s 22ms/step - loss: 0.5440 - accuracy: 0.8044 - val_loss: 1.0982 - val_accuracy: 0.6218\n",
      "Epoch 39/50\n",
      "448/448 [==============================] - 10s 23ms/step - loss: 0.5286 - accuracy: 0.8106 - val_loss: 1.1236 - val_accuracy: 0.6225\n",
      "Epoch 40/50\n",
      "448/448 [==============================] - 10s 23ms/step - loss: 0.5105 - accuracy: 0.8145 - val_loss: 1.1123 - val_accuracy: 0.6236\n",
      "Epoch 41/50\n",
      "448/448 [==============================] - 10s 23ms/step - loss: 0.4925 - accuracy: 0.8218 - val_loss: 1.1310 - val_accuracy: 0.6183\n",
      "Epoch 42/50\n",
      "448/448 [==============================] - 10s 23ms/step - loss: 0.4744 - accuracy: 0.8305 - val_loss: 1.1365 - val_accuracy: 0.6197\n",
      "Epoch 43/50\n",
      "448/448 [==============================] - 10s 23ms/step - loss: 0.4650 - accuracy: 0.8314 - val_loss: 1.1443 - val_accuracy: 0.6235\n",
      "Epoch 44/50\n",
      "448/448 [==============================] - 10s 23ms/step - loss: 0.4429 - accuracy: 0.8396 - val_loss: 1.1490 - val_accuracy: 0.6250\n",
      "Epoch 45/50\n",
      "448/448 [==============================] - 10s 23ms/step - loss: 0.4346 - accuracy: 0.8442 - val_loss: 1.1583 - val_accuracy: 0.6271\n",
      "Epoch 46/50\n",
      "448/448 [==============================] - 10s 23ms/step - loss: 0.4100 - accuracy: 0.8524 - val_loss: 1.1783 - val_accuracy: 0.6222\n",
      "Epoch 47/50\n",
      "448/448 [==============================] - 11s 24ms/step - loss: 0.4015 - accuracy: 0.8538 - val_loss: 1.1854 - val_accuracy: 0.6286\n",
      "Epoch 48/50\n",
      "448/448 [==============================] - 11s 24ms/step - loss: 0.3911 - accuracy: 0.8596 - val_loss: 1.2132 - val_accuracy: 0.6212\n",
      "Epoch 49/50\n",
      "448/448 [==============================] - 11s 24ms/step - loss: 0.3763 - accuracy: 0.8655 - val_loss: 1.2165 - val_accuracy: 0.6272\n",
      "Epoch 50/50\n",
      "448/448 [==============================] - 10s 23ms/step - loss: 0.3611 - accuracy: 0.8713 - val_loss: 1.2119 - val_accuracy: 0.6281\n"
     ]
    },
    {
     "name": "stderr",
     "output_type": "stream",
     "text": [
      "/usr/local/lib/python3.7/dist-packages/ipykernel_launcher.py:13: MatplotlibDeprecationWarning: Passing the minor parameter of set_xticks() positionally is deprecated since Matplotlib 3.2; the parameter will become keyword-only two minor releases later.\n",
      "  del sys.path[0]\n",
      "/usr/local/lib/python3.7/dist-packages/ipykernel_launcher.py:22: MatplotlibDeprecationWarning: Passing the minor parameter of set_xticks() positionally is deprecated since Matplotlib 3.2; the parameter will become keyword-only two minor releases later.\n"
     ]
    },
    {
     "data": {
      "image/png": "[encoded data removed]",
      "text/plain": [
       "<Figure size 1080x360 with 2 Axes>"
      ]
     },
     "metadata": {
      "needs_background": "light",
      "tags": []
     },
     "output_type": "display_data"
    }
   ],
   "source": [
    "model.compile(loss='categorical_crossentropy',optimizer=Adam(lr=0.0001, decay=1e-6),metrics=['accuracy'])\n",
    "\n",
    "model_info = model.fit_generator(\n",
    "            train_generator,\n",
    "            steps_per_epoch=num_train // batch_size,\n",
    "            epochs=num_epoch,\n",
    "            validation_data=validation_generator,\n",
    "            validation_steps=num_val // batch_size)\n",
    "\n",
    "plot_model_history(model_info)\n",
    "model.save_weights('model.h5')"
   ]
  },
  {
   "cell_type": "code",
   "execution_count": 7,
   "metadata": {
    "id": "ZdTNUtpkohba"
   },
   "outputs": [],
   "source": [
    "model.save('ferdetect.h5')"
   ]
  },
  {
   "cell_type": "code",
   "execution_count": 8,
   "metadata": {
    "colab": {
     "base_uri": "https://localhost:8080/"
    },
    "id": "XXiB-DzDsviR",
    "outputId": "bf6917d9-7900-45bf-cead-d7450d6632d9"
   },
   "outputs": [
    {
     "name": "stdout",
     "output_type": "stream",
     "text": [
      "113/113 - 2s - loss: 1.2147 - accuracy: 0.6275\n",
      "\n",
      "Test Accuracy: 0.6274728178977966\n"
     ]
    }
   ],
   "source": [
    "test_loss,test_acc = model.evaluate(validation_generator,verbose=2)\n",
    "print('\\nTest Accuracy:',test_acc)"
   ]
  },
  {
   "cell_type": "code",
   "execution_count": 9,
   "metadata": {
    "colab": {
     "base_uri": "https://localhost:8080/"
    },
    "id": "l7WyL8f3s9bW",
    "outputId": "da5163b8-f78b-4eaf-96d9-7e5eb101c76c"
   },
   "outputs": [
    {
     "name": "stdout",
     "output_type": "stream",
     "text": [
      "449/449 - 6s - loss: 0.1292 - accuracy: 0.9820\n",
      "\n",
      "Train Accuracy: 0.9819568991661072\n"
     ]
    }
   ],
   "source": [
    "test_loss,test_acc = model.evaluate(train_generator,verbose=2)\n",
    "print('\\nTrain Accuracy:',test_acc)"
   ]
  },
  {
   "cell_type": "code",
   "execution_count": null,
   "metadata": {},
   "outputs": [],
   "source": []
  },
  {
   "cell_type": "code",
   "execution_count": null,
   "metadata": {},
   "outputs": [],
   "source": []
  }
 ],
 "metadata": {
  "accelerator": "GPU",
  "colab": {
   "collapsed_sections": [],
   "name": "Untitled0.ipynb",
   "provenance": []
  },
  "kernelspec": {
   "display_name": "Python 3",
   "language": "python",
   "name": "python3"
  },
  "language_info": {
   "codemirror_mode": {
    "name": "ipython",
    "version": 3
   },
   "file_extension": ".py",
   "mimetype": "text/x-python",
   "name": "python",
   "nbconvert_exporter": "python",
   "pygments_lexer": "ipython3",
   "version": "3.7.1"
  }
 },
 "nbformat": 4,
 "nbformat_minor": 1
}
