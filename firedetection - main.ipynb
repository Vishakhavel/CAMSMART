{
 "cells": [
  {
   "cell_type": "code",
   "execution_count": 2,
   "metadata": {},
   "outputs": [
    {
     "name": "stdout",
     "output_type": "stream",
     "text": [
      "Found 1800 images belonging to 2 classes.\n",
      "Found 200 images belonging to 2 classes.\n"
     ]
    }
   ],
   "source": [
    "import tensorflow as tf\n",
    "import keras_preprocessing\n",
    "from keras_preprocessing import image\n",
    "from keras_preprocessing.image import ImageDataGenerator\n",
    "\n",
    "TRAINING_DIR = \"Dataset3/Train\"\n",
    "training_datagen = ImageDataGenerator(  rescale=1./255,\n",
    "                                        zoom_range=0.15,\n",
    "                                        horizontal_flip=True,\n",
    "                                        fill_mode='nearest')\n",
    "\n",
    "VALIDATION_DIR = \"Dataset3/Test\"\n",
    "validation_datagen = ImageDataGenerator(rescale = 1./255)\n",
    "\n",
    "train_generator = training_datagen.flow_from_directory(\n",
    "                                                        TRAINING_DIR,\n",
    "                                                        target_size=(224,224),\n",
    "                                                        shuffle = True,\n",
    "                                                        class_mode='categorical',\n",
    "                                                        batch_size = 128)\n",
    "\n",
    "validation_generator = validation_datagen.flow_from_directory(\n",
    "                                                        VALIDATION_DIR,\n",
    "                                                        target_size=(224,224),\n",
    "                                                        class_mode='categorical',\n",
    "                                                        shuffle = True,\n",
    "                                                        batch_size= 14)"
   ]
  },
  {
   "cell_type": "code",
   "execution_count": 2,
   "metadata": {},
   "outputs": [],
   "source": [
    "from tensorflow.keras.applications.inception_v3 import InceptionV3\n",
    "from tensorflow.keras.preprocessing import image\n",
    "from tensorflow.keras.models import Model\n",
    "from tensorflow.keras.layers import Dense, GlobalAveragePooling2D, Input, Dropout"
   ]
  },
  {
   "cell_type": "code",
   "execution_count": 3,
   "metadata": {},
   "outputs": [],
   "source": [
    "input_tensor = Input(shape=(224, 224, 3))\n",
    "base_model = InceptionV3(input_tensor=input_tensor, weights='imagenet', include_top=False)\n",
    "\n",
    "x = base_model.output\n",
    "x = GlobalAveragePooling2D()(x)\n",
    "x = Dense(2048, activation='relu')(x)\n",
    "x = Dropout(0.25)(x)\n",
    "x = Dense(1024, activation='relu')(x)\n",
    "x = Dropout(0.2)(x)\n",
    "predictions = Dense(2, activation='softmax')(x)\n",
    "\n",
    "model = Model(inputs=base_model.input, outputs=predictions)"
   ]
  },
  {
   "cell_type": "code",
   "execution_count": 4,
   "metadata": {},
   "outputs": [
    {
     "name": "stdout",
     "output_type": "stream",
     "text": [
      "Epoch 1/20\n",
      "14/14 [==============================] - 136s 9s/step - loss: 8.9738 - acc: 0.7231 - val_loss: 0.1919 - val_acc: 0.9235\n",
      "Epoch 2/20\n",
      "14/14 [==============================] - 121s 9s/step - loss: 0.5672 - acc: 0.8995 - val_loss: 0.4135 - val_acc: 0.6990\n",
      "Epoch 3/20\n",
      "14/14 [==============================] - 121s 9s/step - loss: 0.1124 - acc: 0.9533 - val_loss: 0.1121 - val_acc: 0.9592\n",
      "Epoch 4/20\n",
      "14/14 [==============================] - 119s 8s/step - loss: 0.1090 - acc: 0.9551 - val_loss: 0.1221 - val_acc: 0.9643\n",
      "Epoch 5/20\n",
      "14/14 [==============================] - 134s 9s/step - loss: 0.3427 - acc: 0.8995 - val_loss: 0.7816 - val_acc: 0.8827\n",
      "Epoch 6/20\n",
      "14/14 [==============================] - 138s 10s/step - loss: 0.0993 - acc: 0.9701 - val_loss: 0.4877 - val_acc: 0.8929\n",
      "Epoch 7/20\n",
      "14/14 [==============================] - 136s 10s/step - loss: 0.0993 - acc: 0.9605 - val_loss: 0.1832 - val_acc: 0.9643\n",
      "Epoch 8/20\n",
      "14/14 [==============================] - 127s 9s/step - loss: 0.3941 - acc: 0.9031 - val_loss: 0.1014 - val_acc: 0.9592\n",
      "Epoch 9/20\n",
      "14/14 [==============================] - 165s 12s/step - loss: 0.0569 - acc: 0.9809 - val_loss: 0.1241 - val_acc: 0.9694\n",
      "Epoch 10/20\n",
      "14/14 [==============================] - 119s 8s/step - loss: 0.2192 - acc: 0.9480 - val_loss: 0.3096 - val_acc: 0.8827\n",
      "Epoch 11/20\n",
      "14/14 [==============================] - 132s 9s/step - loss: 0.0441 - acc: 0.9803 - val_loss: 0.1597 - val_acc: 0.9592\n",
      "Epoch 12/20\n",
      "14/14 [==============================] - 124s 10s/step - loss: 0.1875 - acc: 0.9522 - val_loss: 0.1997 - val_acc: 0.9541\n",
      "Epoch 13/20\n",
      "14/14 [==============================] - 141s 10s/step - loss: 0.0423 - acc: 0.9856 - val_loss: 0.1707 - val_acc: 0.9643\n",
      "Epoch 14/20\n",
      "14/14 [==============================] - 132s 9s/step - loss: 0.0630 - acc: 0.9773 - val_loss: 0.1812 - val_acc: 0.9592\n",
      "Epoch 15/20\n",
      "14/14 [==============================] - 132s 9s/step - loss: 0.0450 - acc: 0.9844 - val_loss: 0.1838 - val_acc: 0.9541\n",
      "Epoch 16/20\n",
      "14/14 [==============================] - 135s 9s/step - loss: 0.1191 - acc: 0.9677 - val_loss: 0.1750 - val_acc: 0.9439\n",
      "Epoch 17/20\n",
      "14/14 [==============================] - 138s 10s/step - loss: 0.0310 - acc: 0.9898 - val_loss: 0.1749 - val_acc: 0.9643\n",
      "Epoch 18/20\n",
      "14/14 [==============================] - 136s 10s/step - loss: 0.0754 - acc: 0.9749 - val_loss: 0.1622 - val_acc: 0.9643\n",
      "Epoch 19/20\n",
      "14/14 [==============================] - 127s 9s/step - loss: 0.1280 - acc: 0.9773 - val_loss: 0.1128 - val_acc: 0.9643\n",
      "Epoch 20/20\n",
      "14/14 [==============================] - 150s 11s/step - loss: 0.1483 - acc: 0.9749 - val_loss: 0.0940 - val_acc: 0.9643\n"
     ]
    }
   ],
   "source": [
    "for layer in base_model.layers:\n",
    "    layer.trainable = False\n",
    "    \n",
    "model.compile(optimizer='rmsprop', loss='categorical_crossentropy', metrics=['acc'])\n",
    "\n",
    "history = model.fit(\n",
    "train_generator,\n",
    "steps_per_epoch = 14,\n",
    "epochs = 20,\n",
    "validation_data = validation_generator,\n",
    "validation_steps = 14)"
   ]
  },
  {
   "cell_type": "code",
   "execution_count": 5,
   "metadata": {},
   "outputs": [
    {
     "name": "stderr",
     "output_type": "stream",
     "text": [
      "C:\\Users\\keert\\Anaconda3\\lib\\site-packages\\tensorflow\\python\\keras\\optimizer_v2\\optimizer_v2.py:375: UserWarning: The `lr` argument is deprecated, use `learning_rate` instead.\n",
      "  \"The `lr` argument is deprecated, use `learning_rate` instead.\")\n"
     ]
    },
    {
     "name": "stdout",
     "output_type": "stream",
     "text": [
      "Epoch 1/10\n",
      "14/14 [==============================] - 176s 12s/step - loss: 0.4985 - acc: 0.6621 - val_loss: 0.1026 - val_acc: 0.9490\n",
      "Epoch 2/10\n",
      "14/14 [==============================] - 167s 12s/step - loss: 0.4294 - acc: 0.7016 - val_loss: 0.1194 - val_acc: 0.9337\n",
      "Epoch 3/10\n",
      "14/14 [==============================] - 171s 12s/step - loss: 0.3423 - acc: 0.7620 - val_loss: 0.1296 - val_acc: 0.9388\n",
      "Epoch 4/10\n",
      "14/14 [==============================] - 177s 12s/step - loss: 0.3072 - acc: 0.7955 - val_loss: 0.1348 - val_acc: 0.9388\n",
      "Epoch 5/10\n",
      "14/14 [==============================] - 176s 12s/step - loss: 0.2859 - acc: 0.8224 - val_loss: 0.1411 - val_acc: 0.9388\n",
      "Epoch 6/10\n",
      "14/14 [==============================] - 178s 13s/step - loss: 0.2558 - acc: 0.8535 - val_loss: 0.1497 - val_acc: 0.9337\n",
      "Epoch 7/10\n",
      "14/14 [==============================] - 178s 12s/step - loss: 0.2332 - acc: 0.8834 - val_loss: 0.1561 - val_acc: 0.9286\n",
      "Epoch 8/10\n",
      "14/14 [==============================] - 185s 13s/step - loss: 0.2114 - acc: 0.9031 - val_loss: 0.1589 - val_acc: 0.9286\n",
      "Epoch 9/10\n",
      "14/14 [==============================] - 165s 12s/step - loss: 0.2019 - acc: 0.9067 - val_loss: 0.1685 - val_acc: 0.9388\n",
      "Epoch 10/10\n",
      "14/14 [==============================] - 165s 12s/step - loss: 0.1894 - acc: 0.9282 - val_loss: 0.1675 - val_acc: 0.9286\n"
     ]
    }
   ],
   "source": [
    "#To train the top 2 inception blocks, freeze the first 249 layers and unfreeze the rest.\n",
    "\n",
    "for layer in model.layers[:249]:\n",
    "  layer.trainable = False\n",
    "for layer in model.layers[249:]:\n",
    "  layer.trainable = True\n",
    "\n",
    "#Recompile the model for these modifications to take effect\n",
    "from tensorflow.keras.optimizers import SGD\n",
    "model.compile(optimizer=SGD(lr=0.0001, momentum=0.9), loss='categorical_crossentropy', metrics=['acc'])\n",
    "\n",
    "history = model.fit(\n",
    "            train_generator,\n",
    "            steps_per_epoch = 14,\n",
    "            epochs = 10,\n",
    "            validation_data = validation_generator,\n",
    "            validation_steps = 14)"
   ]
  },
  {
   "cell_type": "code",
   "execution_count": 6,
   "metadata": {},
   "outputs": [],
   "source": [
    "model.save('firedetect.h5')"
   ]
  },
  {
   "cell_type": "code",
   "execution_count": 8,
   "metadata": {},
   "outputs": [
    {
     "name": "stdout",
     "output_type": "stream",
     "text": [
      "15/15 - 19s - loss: 0.1687 - acc: 0.9300\n",
      "\n",
      "Test Accuracy: 0.9300000071525574\n"
     ]
    }
   ],
   "source": [
    "test_loss,test_acc = model.evaluate(validation_generator,verbose=2)\n",
    "print('\\nTest Accuracy:',test_acc)"
   ]
  },
  {
   "cell_type": "code",
   "execution_count": 9,
   "metadata": {},
   "outputs": [
    {
     "name": "stdout",
     "output_type": "stream",
     "text": [
      "15/15 - 173s - loss: 0.1121 - acc: 0.9750\n",
      "\n",
      "Train Accuracy: 0.9750000238418579\n"
     ]
    }
   ],
   "source": [
    "test_loss,test_acc = model.evaluate(train_generator,verbose=2)\n",
    "print('\\nTrain Accuracy:',test_acc)"
   ]
  },
  {
   "cell_type": "code",
   "execution_count": 10,
   "metadata": {},
   "outputs": [
    {
     "data": {
      "image/png": "[encoded data removed]",
      "text/plain": [
       "<Figure size 432x288 with 1 Axes>"
      ]
     },
     "metadata": {
      "needs_background": "light"
     },
     "output_type": "display_data"
    },
    {
     "data": {
      "text/plain": [
       "<Figure size 432x288 with 0 Axes>"
      ]
     },
     "metadata": {},
     "output_type": "display_data"
    },
    {
     "data": {
      "image/png": "[encoded data removed]",
      "text/plain": [
       "<Figure size 432x288 with 1 Axes>"
      ]
     },
     "metadata": {
      "needs_background": "light"
     },
     "output_type": "display_data"
    },
    {
     "data": {
      "text/plain": [
       "<Figure size 432x288 with 0 Axes>"
      ]
     },
     "metadata": {},
     "output_type": "display_data"
    }
   ],
   "source": [
    "%matplotlib inline\n",
    "import matplotlib.pyplot as plt\n",
    "acc = history.history['acc']\n",
    "val_acc = history.history['val_acc']\n",
    "loss = history.history['loss']\n",
    "val_loss = history.history['val_loss']\n",
    "\n",
    "epochs = range(len(acc))\n",
    "\n",
    "plt.plot(epochs, acc, 'g', label='Training accuracy')\n",
    "plt.plot(epochs, val_acc, 'b', label='Validation accuracy')\n",
    "plt.title('Training and validation accuracy')\n",
    "\n",
    "plt.legend(loc=0)\n",
    "plt.figure()\n",
    "plt.show()\n",
    "\n",
    "plt.plot(epochs, loss, 'r', label='Training loss')\n",
    "plt.plot(epochs, val_loss, 'orange', label='Validation loss')\n",
    "plt.title('Training and validation loss')\n",
    "\n",
    "plt.legend(loc=0)\n",
    "plt.figure()\n",
    "plt.show()"
   ]
  },
  {
   "cell_type": "code",
   "execution_count": 14,
   "metadata": {},
   "outputs": [],
   "source": [
    "import numpy as np"
   ]
  },
  {
   "cell_type": "code",
   "execution_count": 1,
   "metadata": {},
   "outputs": [],
   "source": [
    "from keras.models import load_model\n",
    "model = load_model('firedetect.h5')"
   ]
  },
  {
   "cell_type": "code",
   "execution_count": 9,
   "metadata": {},
   "outputs": [],
   "source": [
    "from sklearn.metrics import classification_report, accuracy_score, confusion_matrix\n",
    "import pandas as pd\n",
    "import seaborn as sn\n",
    "import tensorflow as tf\n",
    "\n",
    "filenames=validation_generator.filenames\n",
    "nb_samples = len(validation_generator)\n",
    "y_prob=[]\n",
    "y_act=[]\n",
    "validation_generator.reset()\n",
    "for _ in range(nb_samples):\n",
    "    X_test,Y_test = validation_generator.next()\n",
    "    y_prob.append(model.predict(X_test))\n",
    "    y_act.append(Y_test)"
   ]
  },
  {
   "cell_type": "code",
   "execution_count": 15,
   "metadata": {},
   "outputs": [],
   "source": [
    "predicted_class = []\n",
    "actual_class = []\n",
    "\n",
    "for j in y_prob:\n",
    "    for i in j:\n",
    "        predicted_class.append(emotion_dict[int(np.argmax(i))])\n",
    "\n",
    "for j in y_act:\n",
    "    for i in j:\n",
    "        actual_class.append(emotion_dict[int(np.argmax(i))])"
   ]
  },
  {
   "cell_type": "code",
   "execution_count": 12,
   "metadata": {},
   "outputs": [],
   "source": [
    "emotion_dict = {0:'Fire', 1:'Neutral'}"
   ]
  },
  {
   "cell_type": "code",
   "execution_count": 16,
   "metadata": {},
   "outputs": [
    {
     "name": "stdout",
     "output_type": "stream",
     "text": [
      "              precision    recall  f1-score   support\n",
      "\n",
      "        Fire       0.88      0.98      0.93        90\n",
      "     Neutral       0.98      0.89      0.93       110\n",
      "\n",
      "    accuracy                           0.93       200\n",
      "   macro avg       0.93      0.93      0.93       200\n",
      "weighted avg       0.94      0.93      0.93       200\n",
      "\n"
     ]
    }
   ],
   "source": [
    "print(classification_report(predicted_class, actual_class))"
   ]
  },
  {
   "cell_type": "code",
   "execution_count": null,
   "metadata": {},
   "outputs": [],
   "source": []
  }
 ],
 "metadata": {
  "kernelspec": {
   "display_name": "Python 3",
   "language": "python",
   "name": "python3"
  },
  "language_info": {
   "codemirror_mode": {
    "name": "ipython",
    "version": 3
   },
   "file_extension": ".py",
   "mimetype": "text/x-python",
   "name": "python",
   "nbconvert_exporter": "python",
   "pygments_lexer": "ipython3",
   "version": "3.7.1"
  }
 },
 "nbformat": 4,
 "nbformat_minor": 4
}
